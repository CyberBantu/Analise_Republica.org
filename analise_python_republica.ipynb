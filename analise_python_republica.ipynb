{
 "cells": [
  {
   "cell_type": "markdown",
   "metadata": {},
   "source": [
    "## Analise de Remuneração Liquida de Postos do Poder Executivo Federal"
   ]
  },
  {
   "cell_type": "markdown",
   "metadata": {},
   "source": [
    "#### Importando Bibliotecas"
   ]
  },
  {
   "cell_type": "code",
   "execution_count": 10,
   "metadata": {},
   "outputs": [],
   "source": [
    "import pandas as pd\n",
    "import matplotlib.pyplot as plt\n",
    "import seaborn as sns\n",
    "import numpy as np"
   ]
  },
  {
   "cell_type": "markdown",
   "metadata": {},
   "source": [
    "#### Inicio da Analise"
   ]
  },
  {
   "cell_type": "code",
   "execution_count": 7,
   "metadata": {},
   "outputs": [
    {
     "data": {
      "text/html": [
       "<div>\n",
       "<style scoped>\n",
       "    .dataframe tbody tr th:only-of-type {\n",
       "        vertical-align: middle;\n",
       "    }\n",
       "\n",
       "    .dataframe tbody tr th {\n",
       "        vertical-align: top;\n",
       "    }\n",
       "\n",
       "    .dataframe thead th {\n",
       "        text-align: right;\n",
       "    }\n",
       "</style>\n",
       "<table border=\"1\" class=\"dataframe\">\n",
       "  <thead>\n",
       "    <tr style=\"text-align: right;\">\n",
       "      <th></th>\n",
       "      <th>Unnamed: 0</th>\n",
       "      <th>ano</th>\n",
       "      <th>sexo_raça</th>\n",
       "      <th>liquido</th>\n",
       "    </tr>\n",
       "  </thead>\n",
       "  <tbody>\n",
       "    <tr>\n",
       "      <th>0</th>\n",
       "      <td>1</td>\n",
       "      <td>1999</td>\n",
       "      <td>Homem Branco</td>\n",
       "      <td>6527,2</td>\n",
       "    </tr>\n",
       "    <tr>\n",
       "      <th>1</th>\n",
       "      <td>2</td>\n",
       "      <td>1999</td>\n",
       "      <td>Homem Negro</td>\n",
       "      <td>4768,7</td>\n",
       "    </tr>\n",
       "    <tr>\n",
       "      <th>2</th>\n",
       "      <td>3</td>\n",
       "      <td>1999</td>\n",
       "      <td>Mulher Branca</td>\n",
       "      <td>5261,6</td>\n",
       "    </tr>\n",
       "    <tr>\n",
       "      <th>3</th>\n",
       "      <td>4</td>\n",
       "      <td>1999</td>\n",
       "      <td>Mulher Negra</td>\n",
       "      <td>4010</td>\n",
       "    </tr>\n",
       "    <tr>\n",
       "      <th>4</th>\n",
       "      <td>5</td>\n",
       "      <td>2000</td>\n",
       "      <td>Homem Branco</td>\n",
       "      <td>5690,3</td>\n",
       "    </tr>\n",
       "  </tbody>\n",
       "</table>\n",
       "</div>"
      ],
      "text/plain": [
       "   Unnamed: 0   ano      sexo_raça liquido\n",
       "0           1  1999   Homem Branco  6527,2\n",
       "1           2  1999    Homem Negro  4768,7\n",
       "2           3  1999  Mulher Branca  5261,6\n",
       "3           4  1999   Mulher Negra    4010\n",
       "4           5  2000   Homem Branco  5690,3"
      ]
     },
     "execution_count": 7,
     "metadata": {},
     "output_type": "execute_result"
    }
   ],
   "source": [
    "df = pd.read_csv('5233-liquidosexoraca.csv', sep = ';')\n",
    "df.head()"
   ]
  },
  {
   "cell_type": "code",
   "execution_count": 9,
   "metadata": {},
   "outputs": [
    {
     "data": {
      "text/html": [
       "<div>\n",
       "<style scoped>\n",
       "    .dataframe tbody tr th:only-of-type {\n",
       "        vertical-align: middle;\n",
       "    }\n",
       "\n",
       "    .dataframe tbody tr th {\n",
       "        vertical-align: top;\n",
       "    }\n",
       "\n",
       "    .dataframe thead th {\n",
       "        text-align: right;\n",
       "    }\n",
       "</style>\n",
       "<table border=\"1\" class=\"dataframe\">\n",
       "  <thead>\n",
       "    <tr style=\"text-align: right;\">\n",
       "      <th></th>\n",
       "      <th>ano</th>\n",
       "      <th>sexo_raça</th>\n",
       "      <th>liquido</th>\n",
       "    </tr>\n",
       "  </thead>\n",
       "  <tbody>\n",
       "    <tr>\n",
       "      <th>0</th>\n",
       "      <td>1999</td>\n",
       "      <td>Homem Branco</td>\n",
       "      <td>6527,2</td>\n",
       "    </tr>\n",
       "    <tr>\n",
       "      <th>1</th>\n",
       "      <td>1999</td>\n",
       "      <td>Homem Negro</td>\n",
       "      <td>4768,7</td>\n",
       "    </tr>\n",
       "    <tr>\n",
       "      <th>2</th>\n",
       "      <td>1999</td>\n",
       "      <td>Mulher Branca</td>\n",
       "      <td>5261,6</td>\n",
       "    </tr>\n",
       "    <tr>\n",
       "      <th>3</th>\n",
       "      <td>1999</td>\n",
       "      <td>Mulher Negra</td>\n",
       "      <td>4010</td>\n",
       "    </tr>\n",
       "    <tr>\n",
       "      <th>4</th>\n",
       "      <td>2000</td>\n",
       "      <td>Homem Branco</td>\n",
       "      <td>5690,3</td>\n",
       "    </tr>\n",
       "  </tbody>\n",
       "</table>\n",
       "</div>"
      ],
      "text/plain": [
       "    ano      sexo_raça liquido\n",
       "0  1999   Homem Branco  6527,2\n",
       "1  1999    Homem Negro  4768,7\n",
       "2  1999  Mulher Branca  5261,6\n",
       "3  1999   Mulher Negra    4010\n",
       "4  2000   Homem Branco  5690,3"
      ]
     },
     "execution_count": 9,
     "metadata": {},
     "output_type": "execute_result"
    }
   ],
   "source": [
    "# Retirando a primeira coluna\n",
    "df = df[['ano', 'sexo_raça', 'liquido']]\n",
    "df.head()"
   ]
  },
  {
   "cell_type": "code",
   "execution_count": 12,
   "metadata": {},
   "outputs": [
    {
     "name": "stdout",
     "output_type": "stream",
     "text": [
      "<class 'pandas.core.frame.DataFrame'>\n",
      "RangeIndex: 88 entries, 0 to 87\n",
      "Data columns (total 3 columns):\n",
      " #   Column     Non-Null Count  Dtype \n",
      "---  ------     --------------  ----- \n",
      " 0   ano        88 non-null     int64 \n",
      " 1   sexo_raça  88 non-null     object\n",
      " 2   liquido    88 non-null     object\n",
      "dtypes: int64(1), object(2)\n",
      "memory usage: 2.2+ KB\n"
     ]
    }
   ],
   "source": [
    "# Explorando os tipos dos dados\n",
    "df.info()"
   ]
  },
  {
   "cell_type": "code",
   "execution_count": 26,
   "metadata": {},
   "outputs": [
    {
     "name": "stderr",
     "output_type": "stream",
     "text": [
      "C:\\Users\\chris\\AppData\\Local\\Temp\\ipykernel_3076\\4016114861.py:2: SettingWithCopyWarning: \n",
      "A value is trying to be set on a copy of a slice from a DataFrame.\n",
      "Try using .loc[row_indexer,col_indexer] = value instead\n",
      "\n",
      "See the caveats in the documentation: https://pandas.pydata.org/pandas-docs/stable/user_guide/indexing.html#returning-a-view-versus-a-copy\n",
      "  df['liquido'] = df['liquido'].str.replace(',','.').astype(float)\n"
     ]
    }
   ],
   "source": [
    "# Tirando as virgulas e colocando pontos para reconhecer dado como numerico\n",
    "df['liquido'] = df['liquido'].str.replace(',','.').astype(float)"
   ]
  },
  {
   "cell_type": "code",
   "execution_count": 27,
   "metadata": {},
   "outputs": [
    {
     "name": "stdout",
     "output_type": "stream",
     "text": [
      "<class 'pandas.core.frame.DataFrame'>\n",
      "RangeIndex: 88 entries, 0 to 87\n",
      "Data columns (total 3 columns):\n",
      " #   Column     Non-Null Count  Dtype  \n",
      "---  ------     --------------  -----  \n",
      " 0   ano        88 non-null     int64  \n",
      " 1   sexo_raça  88 non-null     object \n",
      " 2   liquido    88 non-null     float64\n",
      "dtypes: float64(1), int64(1), object(1)\n",
      "memory usage: 2.2+ KB\n"
     ]
    }
   ],
   "source": [
    "df.info()"
   ]
  },
  {
   "cell_type": "markdown",
   "metadata": {},
   "source": [
    "#### Agrupando dados por Cor e Genero\n",
    "* Obsevando por Média de Rendimento"
   ]
  },
  {
   "cell_type": "code",
   "execution_count": 31,
   "metadata": {},
   "outputs": [
    {
     "data": {
      "text/html": [
       "<div>\n",
       "<style scoped>\n",
       "    .dataframe tbody tr th:only-of-type {\n",
       "        vertical-align: middle;\n",
       "    }\n",
       "\n",
       "    .dataframe tbody tr th {\n",
       "        vertical-align: top;\n",
       "    }\n",
       "\n",
       "    .dataframe thead th {\n",
       "        text-align: right;\n",
       "    }\n",
       "</style>\n",
       "<table border=\"1\" class=\"dataframe\">\n",
       "  <thead>\n",
       "    <tr style=\"text-align: right;\">\n",
       "      <th></th>\n",
       "      <th>sexo_raça</th>\n",
       "      <th>liquido</th>\n",
       "    </tr>\n",
       "  </thead>\n",
       "  <tbody>\n",
       "    <tr>\n",
       "      <th>0</th>\n",
       "      <td>Homem Branco</td>\n",
       "      <td>7738.23</td>\n",
       "    </tr>\n",
       "    <tr>\n",
       "      <th>1</th>\n",
       "      <td>Homem Negro</td>\n",
       "      <td>5460.00</td>\n",
       "    </tr>\n",
       "    <tr>\n",
       "      <th>2</th>\n",
       "      <td>Mulher Branca</td>\n",
       "      <td>6718.90</td>\n",
       "    </tr>\n",
       "    <tr>\n",
       "      <th>3</th>\n",
       "      <td>Mulher Negra</td>\n",
       "      <td>5066.83</td>\n",
       "    </tr>\n",
       "  </tbody>\n",
       "</table>\n",
       "</div>"
      ],
      "text/plain": [
       "       sexo_raça  liquido\n",
       "0   Homem Branco  7738.23\n",
       "1    Homem Negro  5460.00\n",
       "2  Mulher Branca  6718.90\n",
       "3   Mulher Negra  5066.83"
      ]
     },
     "execution_count": 31,
     "metadata": {},
     "output_type": "execute_result"
    }
   ],
   "source": [
    "### Agrupando informações\n",
    "remun_cor_genero = df.groupby(['sexo_raça'])['liquido'].mean().reset_index()\n",
    "remun_cor_genero['liquido'] = round(remun_cor_genero['liquido'],2) \n",
    "remun_cor_genero\n"
   ]
  },
  {
   "cell_type": "code",
   "execution_count": 74,
   "metadata": {},
   "outputs": [
    {
     "data": {
      "text/plain": [
       "[Text(0, 1, 'R$ 7.738,23'),\n",
       " Text(0, 1, 'R$ 5.460'),\n",
       " Text(0, 1, 'R$ 6.718,90'),\n",
       " Text(0, 1, 'R$ 5.066,83')]"
      ]
     },
     "execution_count": 74,
     "metadata": {},
     "output_type": "execute_result"
    },
    {
     "data": {
      "image/png": "[encoded data removed]",
      "text/plain": [
       "<Figure size 700x500 with 1 Axes>"
      ]
     },
     "metadata": {},
     "output_type": "display_data"
    }
   ],
   "source": [
    "## Produzindo o gráfico\n",
    "f, ax1 = plt.subplots(figsize=(7, 5))\n",
    "ax1 = sns.barplot(data = remun_cor_genero ,x= 'sexo_raça', y='liquido', palette=\"pastel\")\n",
    "plt.xlabel('Cor e Sexo', size = 10)\n",
    "plt.ylabel('Remuneração Média em R$')\n",
    "plt.title('Remuneração Média no Poder Executivo Civil Federal Ativo por Cor e Raça entre os anos 1999 e 2020', size = 10)\n",
    "ax1.bar_label(ax1.containers[0], label_type='edge', padding=1, labels = [\"R$ 7.738,23\", \"R$ 5.460\", 'R$ 6.718,90', 'R$ 5.066,83'])\n",
    "\n",
    "\n"
   ]
  },
  {
   "cell_type": "markdown",
   "metadata": {},
   "source": [
    "#### Elaborando analise de comparativo de Rendimentos cor e sexo pela Média de Remuneração"
   ]
  },
  {
   "cell_type": "code",
   "execution_count": 76,
   "metadata": {},
   "outputs": [
    {
     "data": {
      "text/html": [
       "<div>\n",
       "<style scoped>\n",
       "    .dataframe tbody tr th:only-of-type {\n",
       "        vertical-align: middle;\n",
       "    }\n",
       "\n",
       "    .dataframe tbody tr th {\n",
       "        vertical-align: top;\n",
       "    }\n",
       "\n",
       "    .dataframe thead th {\n",
       "        text-align: right;\n",
       "    }\n",
       "</style>\n",
       "<table border=\"1\" class=\"dataframe\">\n",
       "  <thead>\n",
       "    <tr style=\"text-align: right;\">\n",
       "      <th></th>\n",
       "      <th>ano</th>\n",
       "      <th>liquido</th>\n",
       "    </tr>\n",
       "  </thead>\n",
       "  <tbody>\n",
       "    <tr>\n",
       "      <th>0</th>\n",
       "      <td>1999</td>\n",
       "      <td>5141.88</td>\n",
       "    </tr>\n",
       "    <tr>\n",
       "      <th>1</th>\n",
       "      <td>2000</td>\n",
       "      <td>4627.95</td>\n",
       "    </tr>\n",
       "    <tr>\n",
       "      <th>2</th>\n",
       "      <td>2001</td>\n",
       "      <td>4668.25</td>\n",
       "    </tr>\n",
       "    <tr>\n",
       "      <th>3</th>\n",
       "      <td>2002</td>\n",
       "      <td>5099.00</td>\n",
       "    </tr>\n",
       "    <tr>\n",
       "      <th>4</th>\n",
       "      <td>2003</td>\n",
       "      <td>4864.82</td>\n",
       "    </tr>\n",
       "  </tbody>\n",
       "</table>\n",
       "</div>"
      ],
      "text/plain": [
       "    ano  liquido\n",
       "0  1999  5141.88\n",
       "1  2000  4627.95\n",
       "2  2001  4668.25\n",
       "3  2002  5099.00\n",
       "4  2003  4864.82"
      ]
     },
     "execution_count": 76,
     "metadata": {},
     "output_type": "execute_result"
    }
   ],
   "source": [
    "# Observando a média anual\n",
    "media_anual = df.groupby(['ano'])['liquido'].mean().reset_index()\n",
    "media_anual['liquido'] = round(media_anual['liquido'],2) \n",
    "media_anual.head()"
   ]
  },
  {
   "cell_type": "code",
   "execution_count": 91,
   "metadata": {},
   "outputs": [
    {
     "data": {
      "text/html": [
       "<div>\n",
       "<style scoped>\n",
       "    .dataframe tbody tr th:only-of-type {\n",
       "        vertical-align: middle;\n",
       "    }\n",
       "\n",
       "    .dataframe tbody tr th {\n",
       "        vertical-align: top;\n",
       "    }\n",
       "\n",
       "    .dataframe thead th {\n",
       "        text-align: right;\n",
       "    }\n",
       "</style>\n",
       "<table border=\"1\" class=\"dataframe\">\n",
       "  <thead>\n",
       "    <tr style=\"text-align: right;\">\n",
       "      <th></th>\n",
       "      <th>ano</th>\n",
       "      <th>sexo_raça</th>\n",
       "      <th>media_por_rs</th>\n",
       "      <th>media_do_ano</th>\n",
       "    </tr>\n",
       "  </thead>\n",
       "  <tbody>\n",
       "    <tr>\n",
       "      <th>0</th>\n",
       "      <td>1999</td>\n",
       "      <td>Homem Branco</td>\n",
       "      <td>6527.2</td>\n",
       "      <td>5141.88</td>\n",
       "    </tr>\n",
       "    <tr>\n",
       "      <th>1</th>\n",
       "      <td>1999</td>\n",
       "      <td>Homem Negro</td>\n",
       "      <td>4768.7</td>\n",
       "      <td>5141.88</td>\n",
       "    </tr>\n",
       "    <tr>\n",
       "      <th>2</th>\n",
       "      <td>1999</td>\n",
       "      <td>Mulher Branca</td>\n",
       "      <td>5261.6</td>\n",
       "      <td>5141.88</td>\n",
       "    </tr>\n",
       "    <tr>\n",
       "      <th>3</th>\n",
       "      <td>1999</td>\n",
       "      <td>Mulher Negra</td>\n",
       "      <td>4010.0</td>\n",
       "      <td>5141.88</td>\n",
       "    </tr>\n",
       "    <tr>\n",
       "      <th>4</th>\n",
       "      <td>2000</td>\n",
       "      <td>Homem Branco</td>\n",
       "      <td>5690.3</td>\n",
       "      <td>4627.95</td>\n",
       "    </tr>\n",
       "  </tbody>\n",
       "</table>\n",
       "</div>"
      ],
      "text/plain": [
       "    ano      sexo_raça  media_por_rs  media_do_ano\n",
       "0  1999   Homem Branco        6527.2       5141.88\n",
       "1  1999    Homem Negro        4768.7       5141.88\n",
       "2  1999  Mulher Branca        5261.6       5141.88\n",
       "3  1999   Mulher Negra        4010.0       5141.88\n",
       "4  2000   Homem Branco        5690.3       4627.95"
      ]
     },
     "execution_count": 91,
     "metadata": {},
     "output_type": "execute_result"
    }
   ],
   "source": [
    "# Jutando a a média anual a base original\n",
    "df_com_media_anual = df.merge(media_anual, left_on='ano', right_on='ano')\n",
    "df_com_media_anual.rename(columns={'liquido_y': 'media_do_ano',\n",
    "'liquido_x' : 'media_por_rs'}, inplace=True)\n",
    "df_com_media_anual.head()"
   ]
  },
  {
   "cell_type": "code",
   "execution_count": 93,
   "metadata": {},
   "outputs": [
    {
     "data": {
      "text/html": [
       "<div>\n",
       "<style scoped>\n",
       "    .dataframe tbody tr th:only-of-type {\n",
       "        vertical-align: middle;\n",
       "    }\n",
       "\n",
       "    .dataframe tbody tr th {\n",
       "        vertical-align: top;\n",
       "    }\n",
       "\n",
       "    .dataframe thead th {\n",
       "        text-align: right;\n",
       "    }\n",
       "</style>\n",
       "<table border=\"1\" class=\"dataframe\">\n",
       "  <thead>\n",
       "    <tr style=\"text-align: right;\">\n",
       "      <th></th>\n",
       "      <th>ano</th>\n",
       "      <th>sexo_raça</th>\n",
       "      <th>media_por_rs</th>\n",
       "      <th>media_do_ano</th>\n",
       "      <th>compa_percent</th>\n",
       "    </tr>\n",
       "  </thead>\n",
       "  <tbody>\n",
       "    <tr>\n",
       "      <th>0</th>\n",
       "      <td>1999</td>\n",
       "      <td>Homem Branco</td>\n",
       "      <td>6527.2</td>\n",
       "      <td>5141.88</td>\n",
       "      <td>27.0</td>\n",
       "    </tr>\n",
       "    <tr>\n",
       "      <th>1</th>\n",
       "      <td>1999</td>\n",
       "      <td>Homem Negro</td>\n",
       "      <td>4768.7</td>\n",
       "      <td>5141.88</td>\n",
       "      <td>-7.0</td>\n",
       "    </tr>\n",
       "    <tr>\n",
       "      <th>2</th>\n",
       "      <td>1999</td>\n",
       "      <td>Mulher Branca</td>\n",
       "      <td>5261.6</td>\n",
       "      <td>5141.88</td>\n",
       "      <td>2.0</td>\n",
       "    </tr>\n",
       "    <tr>\n",
       "      <th>3</th>\n",
       "      <td>1999</td>\n",
       "      <td>Mulher Negra</td>\n",
       "      <td>4010.0</td>\n",
       "      <td>5141.88</td>\n",
       "      <td>-22.0</td>\n",
       "    </tr>\n",
       "    <tr>\n",
       "      <th>4</th>\n",
       "      <td>2000</td>\n",
       "      <td>Homem Branco</td>\n",
       "      <td>5690.3</td>\n",
       "      <td>4627.95</td>\n",
       "      <td>23.0</td>\n",
       "    </tr>\n",
       "  </tbody>\n",
       "</table>\n",
       "</div>"
      ],
      "text/plain": [
       "    ano      sexo_raça  media_por_rs  media_do_ano  compa_percent\n",
       "0  1999   Homem Branco        6527.2       5141.88           27.0\n",
       "1  1999    Homem Negro        4768.7       5141.88           -7.0\n",
       "2  1999  Mulher Branca        5261.6       5141.88            2.0\n",
       "3  1999   Mulher Negra        4010.0       5141.88          -22.0\n",
       "4  2000   Homem Branco        5690.3       4627.95           23.0"
      ]
     },
     "execution_count": 93,
     "metadata": {},
     "output_type": "execute_result"
    }
   ],
   "source": [
    "# Criando coluna de Valor Comparativo\n",
    "df_com_media_anual['compa_percent'] = round(df_com_media_anual['media_por_rs'] / df_com_media_anual['media_do_ano'] - 1,2)*100\n",
    "df_com_media_anual.head()"
   ]
  },
  {
   "cell_type": "code",
   "execution_count": 114,
   "metadata": {},
   "outputs": [
    {
     "data": {
      "image/png": "[encoded data removed]",
      "text/plain": [
       "<Figure size 757.625x600 with 1 Axes>"
      ]
     },
     "metadata": {},
     "output_type": "display_data"
    }
   ],
   "source": [
    "g1 = sns.catplot(data=df_com_media_anual, kind=\"bar\",x=\"ano\", y=\"compa_percent\", hue=\"sexo_raça\", alpha=1, height=6)\n",
    "plt.xticks(rotation = 90)\n",
    "plt.xlabel('Ano')\n",
    "plt.ylabel('Comparativo em (%)')\n",
    "plt.title('Diferença de Remuneração Liquida em (%) em comparativo com Remumeração Média do Poder Executivo Federal\\nentre os anos de 1999 e 2020 por Sexo e Raça',\n",
    "size = 12)\n",
    "g1._legend.set_title('Sexo e Cor')\n"
   ]
  }
 ],
 "metadata": {
  "kernelspec": {
   "display_name": "Python 3.10.8 64-bit (microsoft store)",
   "language": "python",
   "name": "python3"
  },
  "language_info": {
   "codemirror_mode": {
    "name": "ipython",
    "version": 3
   },
   "file_extension": ".py",
   "mimetype": "text/x-python",
   "name": "python",
   "nbconvert_exporter": "python",
   "pygments_lexer": "ipython3",
   "version": "3.10.8"
  },
  "orig_nbformat": 4,
  "vscode": {
   "interpreter": {
    "hash": "aa82987a71ca0339a52998cd22613b0c002bda8349fa32a0cb67ceec3936a2bf"
   }
  }
 },
 "nbformat": 4,
 "nbformat_minor": 2
}
