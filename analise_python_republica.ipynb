{
 "cells": [
  {
   "cell_type": "markdown",
   "metadata": {},
   "source": [
    "## Analise de Remuneração Liquida de Postos do Poder Executivo Federal"
   ]
  },
  {
   "cell_type": "markdown",
   "metadata": {},
   "source": [
    "#### Importando Bibliotecas"
   ]
  },
  {
   "cell_type": "code",
   "execution_count": 150,
   "metadata": {},
   "outputs": [],
   "source": [
    "import pandas as pd\n",
    "import matplotlib.pyplot as plt\n",
    "import seaborn as sns\n",
    "import numpy as np"
   ]
  },
  {
   "cell_type": "markdown",
   "metadata": {},
   "source": [
    "#### Inicio da Analise"
   ]
  },
  {
   "cell_type": "code",
   "execution_count": 151,
   "metadata": {},
   "outputs": [
    {
     "data": {
      "text/html": [
       "<div>\n",
       "<style scoped>\n",
       "    .dataframe tbody tr th:only-of-type {\n",
       "        vertical-align: middle;\n",
       "    }\n",
       "\n",
       "    .dataframe tbody tr th {\n",
       "        vertical-align: top;\n",
       "    }\n",
       "\n",
       "    .dataframe thead th {\n",
       "        text-align: right;\n",
       "    }\n",
       "</style>\n",
       "<table border=\"1\" class=\"dataframe\">\n",
       "  <thead>\n",
       "    <tr style=\"text-align: right;\">\n",
       "      <th></th>\n",
       "      <th>Unnamed: 0</th>\n",
       "      <th>ano</th>\n",
       "      <th>sexo_raça</th>\n",
       "      <th>liquido</th>\n",
       "    </tr>\n",
       "  </thead>\n",
       "  <tbody>\n",
       "    <tr>\n",
       "      <th>0</th>\n",
       "      <td>1</td>\n",
       "      <td>1999</td>\n",
       "      <td>Homem Branco</td>\n",
       "      <td>6527,2</td>\n",
       "    </tr>\n",
       "    <tr>\n",
       "      <th>1</th>\n",
       "      <td>2</td>\n",
       "      <td>1999</td>\n",
       "      <td>Homem Negro</td>\n",
       "      <td>4768,7</td>\n",
       "    </tr>\n",
       "    <tr>\n",
       "      <th>2</th>\n",
       "      <td>3</td>\n",
       "      <td>1999</td>\n",
       "      <td>Mulher Branca</td>\n",
       "      <td>5261,6</td>\n",
       "    </tr>\n",
       "    <tr>\n",
       "      <th>3</th>\n",
       "      <td>4</td>\n",
       "      <td>1999</td>\n",
       "      <td>Mulher Negra</td>\n",
       "      <td>4010</td>\n",
       "    </tr>\n",
       "    <tr>\n",
       "      <th>4</th>\n",
       "      <td>5</td>\n",
       "      <td>2000</td>\n",
       "      <td>Homem Branco</td>\n",
       "      <td>5690,3</td>\n",
       "    </tr>\n",
       "  </tbody>\n",
       "</table>\n",
       "</div>"
      ],
      "text/plain": [
       "   Unnamed: 0   ano      sexo_raça liquido\n",
       "0           1  1999   Homem Branco  6527,2\n",
       "1           2  1999    Homem Negro  4768,7\n",
       "2           3  1999  Mulher Branca  5261,6\n",
       "3           4  1999   Mulher Negra    4010\n",
       "4           5  2000   Homem Branco  5690,3"
      ]
     },
     "execution_count": 151,
     "metadata": {},
     "output_type": "execute_result"
    }
   ],
   "source": [
    "df = pd.read_csv('5233-liquidosexoraca.csv', sep = ';')\n",
    "df.head()"
   ]
  },
  {
   "cell_type": "code",
   "execution_count": 152,
   "metadata": {},
   "outputs": [
    {
     "data": {
      "text/html": [
       "<div>\n",
       "<style scoped>\n",
       "    .dataframe tbody tr th:only-of-type {\n",
       "        vertical-align: middle;\n",
       "    }\n",
       "\n",
       "    .dataframe tbody tr th {\n",
       "        vertical-align: top;\n",
       "    }\n",
       "\n",
       "    .dataframe thead th {\n",
       "        text-align: right;\n",
       "    }\n",
       "</style>\n",
       "<table border=\"1\" class=\"dataframe\">\n",
       "  <thead>\n",
       "    <tr style=\"text-align: right;\">\n",
       "      <th></th>\n",
       "      <th>ano</th>\n",
       "      <th>sexo_raça</th>\n",
       "      <th>liquido</th>\n",
       "    </tr>\n",
       "  </thead>\n",
       "  <tbody>\n",
       "    <tr>\n",
       "      <th>0</th>\n",
       "      <td>1999</td>\n",
       "      <td>Homem Branco</td>\n",
       "      <td>6527,2</td>\n",
       "    </tr>\n",
       "    <tr>\n",
       "      <th>1</th>\n",
       "      <td>1999</td>\n",
       "      <td>Homem Negro</td>\n",
       "      <td>4768,7</td>\n",
       "    </tr>\n",
       "    <tr>\n",
       "      <th>2</th>\n",
       "      <td>1999</td>\n",
       "      <td>Mulher Branca</td>\n",
       "      <td>5261,6</td>\n",
       "    </tr>\n",
       "    <tr>\n",
       "      <th>3</th>\n",
       "      <td>1999</td>\n",
       "      <td>Mulher Negra</td>\n",
       "      <td>4010</td>\n",
       "    </tr>\n",
       "    <tr>\n",
       "      <th>4</th>\n",
       "      <td>2000</td>\n",
       "      <td>Homem Branco</td>\n",
       "      <td>5690,3</td>\n",
       "    </tr>\n",
       "  </tbody>\n",
       "</table>\n",
       "</div>"
      ],
      "text/plain": [
       "    ano      sexo_raça liquido\n",
       "0  1999   Homem Branco  6527,2\n",
       "1  1999    Homem Negro  4768,7\n",
       "2  1999  Mulher Branca  5261,6\n",
       "3  1999   Mulher Negra    4010\n",
       "4  2000   Homem Branco  5690,3"
      ]
     },
     "execution_count": 152,
     "metadata": {},
     "output_type": "execute_result"
    }
   ],
   "source": [
    "# Retirando a primeira coluna\n",
    "df = df[['ano', 'sexo_raça', 'liquido']]\n",
    "df.head()"
   ]
  },
  {
   "cell_type": "code",
   "execution_count": 153,
   "metadata": {},
   "outputs": [
    {
     "name": "stdout",
     "output_type": "stream",
     "text": [
      "<class 'pandas.core.frame.DataFrame'>\n",
      "RangeIndex: 88 entries, 0 to 87\n",
      "Data columns (total 3 columns):\n",
      " #   Column     Non-Null Count  Dtype \n",
      "---  ------     --------------  ----- \n",
      " 0   ano        88 non-null     int64 \n",
      " 1   sexo_raça  88 non-null     object\n",
      " 2   liquido    88 non-null     object\n",
      "dtypes: int64(1), object(2)\n",
      "memory usage: 2.2+ KB\n"
     ]
    }
   ],
   "source": [
    "# Explorando os tipos dos dados\n",
    "df.info()"
   ]
  },
  {
   "cell_type": "code",
   "execution_count": 154,
   "metadata": {},
   "outputs": [],
   "source": [
    "# Tirando as virgulas e colocando pontos para reconhecer dado como numerico\n",
    "df['liquido'] = df['liquido'].str.replace(',','.').astype(float)"
   ]
  },
  {
   "cell_type": "code",
   "execution_count": 155,
   "metadata": {},
   "outputs": [
    {
     "name": "stdout",
     "output_type": "stream",
     "text": [
      "<class 'pandas.core.frame.DataFrame'>\n",
      "RangeIndex: 88 entries, 0 to 87\n",
      "Data columns (total 3 columns):\n",
      " #   Column     Non-Null Count  Dtype  \n",
      "---  ------     --------------  -----  \n",
      " 0   ano        88 non-null     int64  \n",
      " 1   sexo_raça  88 non-null     object \n",
      " 2   liquido    88 non-null     float64\n",
      "dtypes: float64(1), int64(1), object(1)\n",
      "memory usage: 2.2+ KB\n"
     ]
    }
   ],
   "source": [
    "df.info()"
   ]
  },
  {
   "cell_type": "markdown",
   "metadata": {},
   "source": [
    "#### Agrupando dados por Cor e Genero\n",
    "* Obsevando por Média de Rendimento"
   ]
  },
  {
   "cell_type": "code",
   "execution_count": 156,
   "metadata": {},
   "outputs": [
    {
     "data": {
      "text/html": [
       "<div>\n",
       "<style scoped>\n",
       "    .dataframe tbody tr th:only-of-type {\n",
       "        vertical-align: middle;\n",
       "    }\n",
       "\n",
       "    .dataframe tbody tr th {\n",
       "        vertical-align: top;\n",
       "    }\n",
       "\n",
       "    .dataframe thead th {\n",
       "        text-align: right;\n",
       "    }\n",
       "</style>\n",
       "<table border=\"1\" class=\"dataframe\">\n",
       "  <thead>\n",
       "    <tr style=\"text-align: right;\">\n",
       "      <th></th>\n",
       "      <th>sexo_raça</th>\n",
       "      <th>liquido</th>\n",
       "    </tr>\n",
       "  </thead>\n",
       "  <tbody>\n",
       "    <tr>\n",
       "      <th>0</th>\n",
       "      <td>Homem Branco</td>\n",
       "      <td>7738.23</td>\n",
       "    </tr>\n",
       "    <tr>\n",
       "      <th>1</th>\n",
       "      <td>Homem Negro</td>\n",
       "      <td>5460.00</td>\n",
       "    </tr>\n",
       "    <tr>\n",
       "      <th>2</th>\n",
       "      <td>Mulher Branca</td>\n",
       "      <td>6718.90</td>\n",
       "    </tr>\n",
       "    <tr>\n",
       "      <th>3</th>\n",
       "      <td>Mulher Negra</td>\n",
       "      <td>5066.83</td>\n",
       "    </tr>\n",
       "  </tbody>\n",
       "</table>\n",
       "</div>"
      ],
      "text/plain": [
       "       sexo_raça  liquido\n",
       "0   Homem Branco  7738.23\n",
       "1    Homem Negro  5460.00\n",
       "2  Mulher Branca  6718.90\n",
       "3   Mulher Negra  5066.83"
      ]
     },
     "execution_count": 156,
     "metadata": {},
     "output_type": "execute_result"
    }
   ],
   "source": [
    "### Agrupando informações\n",
    "remun_cor_genero = df.groupby(['sexo_raça'])['liquido'].mean().reset_index()\n",
    "remun_cor_genero['liquido'] = round(remun_cor_genero['liquido'],2) \n",
    "remun_cor_genero\n"
   ]
  },
  {
   "cell_type": "code",
   "execution_count": 157,
   "metadata": {},
   "outputs": [
    {
     "data": {
      "text/plain": [
       "[Text(0, 1, 'R$ 7.738,23'),\n",
       " Text(0, 1, 'R$ 5.460'),\n",
       " Text(0, 1, 'R$ 6.718,90'),\n",
       " Text(0, 1, 'R$ 5.066,83')]"
      ]
     },
     "execution_count": 157,
     "metadata": {},
     "output_type": "execute_result"
    },
    {
     "data": {
      "image/png": "[encoded data removed]",
      "text/plain": [
       "<Figure size 700x500 with 1 Axes>"
      ]
     },
     "metadata": {},
     "output_type": "display_data"
    }
   ],
   "source": [
    "## Produzindo o gráfico\n",
    "f, ax1 = plt.subplots(figsize=(7, 5))\n",
    "ax1 = sns.barplot(data = remun_cor_genero ,x= 'sexo_raça', y='liquido', palette=\"pastel\")\n",
    "plt.xlabel('Cor e Sexo', size = 10)\n",
    "plt.ylabel('Remuneração Média em R$')\n",
    "plt.title('Remuneração Média no Poder Executivo Civil Federal Ativo por Cor e Raça entre os anos 1999 e 2020', size = 10)\n",
    "ax1.bar_label(ax1.containers[0], label_type='edge', padding=1, labels = [\"R$ 7.738,23\", \"R$ 5.460\", 'R$ 6.718,90', 'R$ 5.066,83'])\n",
    "\n",
    "\n"
   ]
  },
  {
   "cell_type": "markdown",
   "metadata": {},
   "source": [
    "#### Elaborando analise de comparativo de Rendimentos cor e sexo pela Média de Remuneração"
   ]
  },
  {
   "cell_type": "code",
   "execution_count": 158,
   "metadata": {},
   "outputs": [
    {
     "data": {
      "text/html": [
       "<div>\n",
       "<style scoped>\n",
       "    .dataframe tbody tr th:only-of-type {\n",
       "        vertical-align: middle;\n",
       "    }\n",
       "\n",
       "    .dataframe tbody tr th {\n",
       "        vertical-align: top;\n",
       "    }\n",
       "\n",
       "    .dataframe thead th {\n",
       "        text-align: right;\n",
       "    }\n",
       "</style>\n",
       "<table border=\"1\" class=\"dataframe\">\n",
       "  <thead>\n",
       "    <tr style=\"text-align: right;\">\n",
       "      <th></th>\n",
       "      <th>ano</th>\n",
       "      <th>liquido</th>\n",
       "    </tr>\n",
       "  </thead>\n",
       "  <tbody>\n",
       "    <tr>\n",
       "      <th>0</th>\n",
       "      <td>1999</td>\n",
       "      <td>5141.88</td>\n",
       "    </tr>\n",
       "    <tr>\n",
       "      <th>1</th>\n",
       "      <td>2000</td>\n",
       "      <td>4627.95</td>\n",
       "    </tr>\n",
       "    <tr>\n",
       "      <th>2</th>\n",
       "      <td>2001</td>\n",
       "      <td>4668.25</td>\n",
       "    </tr>\n",
       "    <tr>\n",
       "      <th>3</th>\n",
       "      <td>2002</td>\n",
       "      <td>5099.00</td>\n",
       "    </tr>\n",
       "    <tr>\n",
       "      <th>4</th>\n",
       "      <td>2003</td>\n",
       "      <td>4864.82</td>\n",
       "    </tr>\n",
       "  </tbody>\n",
       "</table>\n",
       "</div>"
      ],
      "text/plain": [
       "    ano  liquido\n",
       "0  1999  5141.88\n",
       "1  2000  4627.95\n",
       "2  2001  4668.25\n",
       "3  2002  5099.00\n",
       "4  2003  4864.82"
      ]
     },
     "execution_count": 158,
     "metadata": {},
     "output_type": "execute_result"
    }
   ],
   "source": [
    "# Observando a média anual\n",
    "media_anual = df.groupby(['ano'])['liquido'].mean().reset_index()\n",
    "media_anual['liquido'] = round(media_anual['liquido'],2) \n",
    "media_anual.head()"
   ]
  },
  {
   "cell_type": "code",
   "execution_count": 159,
   "metadata": {},
   "outputs": [
    {
     "data": {
      "text/html": [
       "<div>\n",
       "<style scoped>\n",
       "    .dataframe tbody tr th:only-of-type {\n",
       "        vertical-align: middle;\n",
       "    }\n",
       "\n",
       "    .dataframe tbody tr th {\n",
       "        vertical-align: top;\n",
       "    }\n",
       "\n",
       "    .dataframe thead th {\n",
       "        text-align: right;\n",
       "    }\n",
       "</style>\n",
       "<table border=\"1\" class=\"dataframe\">\n",
       "  <thead>\n",
       "    <tr style=\"text-align: right;\">\n",
       "      <th></th>\n",
       "      <th>ano</th>\n",
       "      <th>sexo_raça</th>\n",
       "      <th>media_por_rs</th>\n",
       "      <th>media_do_ano</th>\n",
       "    </tr>\n",
       "  </thead>\n",
       "  <tbody>\n",
       "    <tr>\n",
       "      <th>0</th>\n",
       "      <td>1999</td>\n",
       "      <td>Homem Branco</td>\n",
       "      <td>6527.2</td>\n",
       "      <td>5141.88</td>\n",
       "    </tr>\n",
       "    <tr>\n",
       "      <th>1</th>\n",
       "      <td>1999</td>\n",
       "      <td>Homem Negro</td>\n",
       "      <td>4768.7</td>\n",
       "      <td>5141.88</td>\n",
       "    </tr>\n",
       "    <tr>\n",
       "      <th>2</th>\n",
       "      <td>1999</td>\n",
       "      <td>Mulher Branca</td>\n",
       "      <td>5261.6</td>\n",
       "      <td>5141.88</td>\n",
       "    </tr>\n",
       "    <tr>\n",
       "      <th>3</th>\n",
       "      <td>1999</td>\n",
       "      <td>Mulher Negra</td>\n",
       "      <td>4010.0</td>\n",
       "      <td>5141.88</td>\n",
       "    </tr>\n",
       "    <tr>\n",
       "      <th>4</th>\n",
       "      <td>2000</td>\n",
       "      <td>Homem Branco</td>\n",
       "      <td>5690.3</td>\n",
       "      <td>4627.95</td>\n",
       "    </tr>\n",
       "  </tbody>\n",
       "</table>\n",
       "</div>"
      ],
      "text/plain": [
       "    ano      sexo_raça  media_por_rs  media_do_ano\n",
       "0  1999   Homem Branco        6527.2       5141.88\n",
       "1  1999    Homem Negro        4768.7       5141.88\n",
       "2  1999  Mulher Branca        5261.6       5141.88\n",
       "3  1999   Mulher Negra        4010.0       5141.88\n",
       "4  2000   Homem Branco        5690.3       4627.95"
      ]
     },
     "execution_count": 159,
     "metadata": {},
     "output_type": "execute_result"
    }
   ],
   "source": [
    "# Jutando a a média anual a base original\n",
    "df_com_media_anual = df.merge(media_anual, left_on='ano', right_on='ano')\n",
    "df_com_media_anual.rename(columns={'liquido_y': 'media_do_ano',\n",
    "'liquido_x' : 'media_por_rs'}, inplace=True)\n",
    "df_com_media_anual.head()"
   ]
  },
  {
   "cell_type": "code",
   "execution_count": 160,
   "metadata": {},
   "outputs": [
    {
     "data": {
      "text/html": [
       "<div>\n",
       "<style scoped>\n",
       "    .dataframe tbody tr th:only-of-type {\n",
       "        vertical-align: middle;\n",
       "    }\n",
       "\n",
       "    .dataframe tbody tr th {\n",
       "        vertical-align: top;\n",
       "    }\n",
       "\n",
       "    .dataframe thead th {\n",
       "        text-align: right;\n",
       "    }\n",
       "</style>\n",
       "<table border=\"1\" class=\"dataframe\">\n",
       "  <thead>\n",
       "    <tr style=\"text-align: right;\">\n",
       "      <th></th>\n",
       "      <th>ano</th>\n",
       "      <th>sexo_raça</th>\n",
       "      <th>media_por_rs</th>\n",
       "      <th>media_do_ano</th>\n",
       "      <th>compa_percent</th>\n",
       "    </tr>\n",
       "  </thead>\n",
       "  <tbody>\n",
       "    <tr>\n",
       "      <th>0</th>\n",
       "      <td>1999</td>\n",
       "      <td>Homem Branco</td>\n",
       "      <td>6527.2</td>\n",
       "      <td>5141.88</td>\n",
       "      <td>27.0</td>\n",
       "    </tr>\n",
       "    <tr>\n",
       "      <th>1</th>\n",
       "      <td>1999</td>\n",
       "      <td>Homem Negro</td>\n",
       "      <td>4768.7</td>\n",
       "      <td>5141.88</td>\n",
       "      <td>-7.0</td>\n",
       "    </tr>\n",
       "    <tr>\n",
       "      <th>2</th>\n",
       "      <td>1999</td>\n",
       "      <td>Mulher Branca</td>\n",
       "      <td>5261.6</td>\n",
       "      <td>5141.88</td>\n",
       "      <td>2.0</td>\n",
       "    </tr>\n",
       "    <tr>\n",
       "      <th>3</th>\n",
       "      <td>1999</td>\n",
       "      <td>Mulher Negra</td>\n",
       "      <td>4010.0</td>\n",
       "      <td>5141.88</td>\n",
       "      <td>-22.0</td>\n",
       "    </tr>\n",
       "    <tr>\n",
       "      <th>4</th>\n",
       "      <td>2000</td>\n",
       "      <td>Homem Branco</td>\n",
       "      <td>5690.3</td>\n",
       "      <td>4627.95</td>\n",
       "      <td>23.0</td>\n",
       "    </tr>\n",
       "  </tbody>\n",
       "</table>\n",
       "</div>"
      ],
      "text/plain": [
       "    ano      sexo_raça  media_por_rs  media_do_ano  compa_percent\n",
       "0  1999   Homem Branco        6527.2       5141.88           27.0\n",
       "1  1999    Homem Negro        4768.7       5141.88           -7.0\n",
       "2  1999  Mulher Branca        5261.6       5141.88            2.0\n",
       "3  1999   Mulher Negra        4010.0       5141.88          -22.0\n",
       "4  2000   Homem Branco        5690.3       4627.95           23.0"
      ]
     },
     "execution_count": 160,
     "metadata": {},
     "output_type": "execute_result"
    }
   ],
   "source": [
    "# Criando coluna de Valor Comparativo\n",
    "df_com_media_anual['compa_percent'] = round(df_com_media_anual['media_por_rs'] / df_com_media_anual['media_do_ano'] - 1,2)*100\n",
    "df_com_media_anual.head()"
   ]
  },
  {
   "cell_type": "code",
   "execution_count": 230,
   "metadata": {},
   "outputs": [
    {
     "data": {
      "text/plain": [
       "-5.863636363636363"
      ]
     },
     "execution_count": 230,
     "metadata": {},
     "output_type": "execute_result"
    }
   ],
   "source": [
    "# Porcentagem salarial de Mulheres em comparativo com o salário médio do ano\n",
    "mulheres = df_com_media_anual.query(\"sexo_raça == ('Mulher Negra', 'Mulher Branca')\")\n",
    "mulheres['compa_percent'].mean()"
   ]
  },
  {
   "cell_type": "code",
   "execution_count": 220,
   "metadata": {},
   "outputs": [
    {
     "data": {
      "text/plain": [
       "-19.045454545454547"
      ]
     },
     "execution_count": 220,
     "metadata": {},
     "output_type": "execute_result"
    }
   ],
   "source": [
    "# Olhando para a taxa média de diferença salarial de mulheres negras para com a média\n",
    "mulher_negra = df_com_media_anual.query(\"sexo_raça == 'Mulher Negra'\")\n",
    "mulher_negra['compa_percent'].mean()"
   ]
  },
  {
   "cell_type": "code",
   "execution_count": 221,
   "metadata": {},
   "outputs": [
    {
     "data": {
      "text/plain": [
       "7.318181818181818"
      ]
     },
     "execution_count": 221,
     "metadata": {},
     "output_type": "execute_result"
    }
   ],
   "source": [
    "# Olhando para a taxa média de diferença salarial de mulheres brancas para com a média\n",
    "mulher_branca = df_com_media_anual.query(\"sexo_raça == 'Mulher Branca'\")\n",
    "mulher_branca['compa_percent'].mean()"
   ]
  },
  {
   "cell_type": "code",
   "execution_count": 222,
   "metadata": {},
   "outputs": [
    {
     "data": {
      "text/plain": [
       "24.272727272727273"
      ]
     },
     "execution_count": 222,
     "metadata": {},
     "output_type": "execute_result"
    }
   ],
   "source": [
    "homem_branco = df_com_media_anual.query(\"sexo_raça == 'Homem Branco'\")\n",
    "homem_branco['compa_percent'].mean()\n"
   ]
  },
  {
   "cell_type": "code",
   "execution_count": 223,
   "metadata": {},
   "outputs": [
    {
     "data": {
      "text/plain": [
       "-12.318181818181818"
      ]
     },
     "execution_count": 223,
     "metadata": {},
     "output_type": "execute_result"
    }
   ],
   "source": [
    "homem_negro = df_com_media_anual.query(\"sexo_raça == 'Homem Negro'\")\n",
    "homem_negro['compa_percent'].mean()"
   ]
  },
  {
   "cell_type": "code",
   "execution_count": 161,
   "metadata": {},
   "outputs": [
    {
     "data": {
      "image/png": "[encoded data removed]",
      "text/plain": [
       "<Figure size 761x600 with 1 Axes>"
      ]
     },
     "metadata": {},
     "output_type": "display_data"
    }
   ],
   "source": [
    "g1 = sns.catplot(data=df_com_media_anual, kind=\"bar\",x=\"ano\", y=\"compa_percent\", hue=\"sexo_raça\", alpha=1, height=6)\n",
    "plt.xticks(rotation = 90)\n",
    "plt.xlabel('Ano')\n",
    "plt.ylabel('Comparativo em (%)')\n",
    "plt.title('Diferença de Remuneração Liquida em (%) em comparativo com Remumeração Média do Poder Executivo Federal\\nentre os anos de 1999 e 2020 por Sexo e Raça',\n",
    "size = 12)\n",
    "g1._legend.set_title('Sexo e Cor')\n"
   ]
  },
  {
   "cell_type": "markdown",
   "metadata": {},
   "source": [
    "#### Analisando segunda base para comparativo - Base com total de Vinculos por Cor e Gênero"
   ]
  },
  {
   "cell_type": "code",
   "execution_count": 177,
   "metadata": {},
   "outputs": [
    {
     "data": {
      "text/html": [
       "<div>\n",
       "<style scoped>\n",
       "    .dataframe tbody tr th:only-of-type {\n",
       "        vertical-align: middle;\n",
       "    }\n",
       "\n",
       "    .dataframe tbody tr th {\n",
       "        vertical-align: top;\n",
       "    }\n",
       "\n",
       "    .dataframe thead th {\n",
       "        text-align: right;\n",
       "    }\n",
       "</style>\n",
       "<table border=\"1\" class=\"dataframe\">\n",
       "  <thead>\n",
       "    <tr style=\"text-align: right;\">\n",
       "      <th></th>\n",
       "      <th>ano</th>\n",
       "      <th>raça</th>\n",
       "      <th>Fem</th>\n",
       "      <th>Mas</th>\n",
       "      <th>total</th>\n",
       "      <th>total_ano</th>\n",
       "      <th>fem_ano</th>\n",
       "      <th>mas_ano</th>\n",
       "    </tr>\n",
       "  </thead>\n",
       "  <tbody>\n",
       "    <tr>\n",
       "      <th>0</th>\n",
       "      <td>1999</td>\n",
       "      <td>AMARELA</td>\n",
       "      <td>7319</td>\n",
       "      <td>8566</td>\n",
       "      <td>15885</td>\n",
       "      <td>477416</td>\n",
       "      <td>210314</td>\n",
       "      <td>267102</td>\n",
       "    </tr>\n",
       "    <tr>\n",
       "      <th>1</th>\n",
       "      <td>1999</td>\n",
       "      <td>BRANCA</td>\n",
       "      <td>105793</td>\n",
       "      <td>124198</td>\n",
       "      <td>229991</td>\n",
       "      <td>477416</td>\n",
       "      <td>210314</td>\n",
       "      <td>267102</td>\n",
       "    </tr>\n",
       "    <tr>\n",
       "      <th>2</th>\n",
       "      <td>1999</td>\n",
       "      <td>INDIGENA</td>\n",
       "      <td>530</td>\n",
       "      <td>1054</td>\n",
       "      <td>1584</td>\n",
       "      <td>477416</td>\n",
       "      <td>210314</td>\n",
       "      <td>267102</td>\n",
       "    </tr>\n",
       "    <tr>\n",
       "      <th>3</th>\n",
       "      <td>1999</td>\n",
       "      <td>NAO INFORMADO</td>\n",
       "      <td>32792</td>\n",
       "      <td>50004</td>\n",
       "      <td>82796</td>\n",
       "      <td>477416</td>\n",
       "      <td>210314</td>\n",
       "      <td>267102</td>\n",
       "    </tr>\n",
       "    <tr>\n",
       "      <th>4</th>\n",
       "      <td>1999</td>\n",
       "      <td>PARDA</td>\n",
       "      <td>54612</td>\n",
       "      <td>74169</td>\n",
       "      <td>128781</td>\n",
       "      <td>477416</td>\n",
       "      <td>210314</td>\n",
       "      <td>267102</td>\n",
       "    </tr>\n",
       "  </tbody>\n",
       "</table>\n",
       "</div>"
      ],
      "text/plain": [
       "    ano           raça     Fem     Mas   total  total_ano  fem_ano  mas_ano\n",
       "0  1999        AMARELA    7319    8566   15885     477416   210314   267102\n",
       "1  1999         BRANCA  105793  124198  229991     477416   210314   267102\n",
       "2  1999       INDIGENA     530    1054    1584     477416   210314   267102\n",
       "3  1999  NAO INFORMADO   32792   50004   82796     477416   210314   267102\n",
       "4  1999          PARDA   54612   74169  128781     477416   210314   267102"
      ]
     },
     "execution_count": 177,
     "metadata": {},
     "output_type": "execute_result"
    }
   ],
   "source": [
    "# Olhando para a base de total de vinculos ativos por cor e sexo\n",
    "df_vinculos = pd.read_csv('base_2.csv', sep = ';', encoding= 'utf8')\n",
    "df_vinculos.head()"
   ]
  },
  {
   "cell_type": "code",
   "execution_count": 178,
   "metadata": {},
   "outputs": [
    {
     "name": "stdout",
     "output_type": "stream",
     "text": [
      "<class 'pandas.core.frame.DataFrame'>\n",
      "RangeIndex: 132 entries, 0 to 131\n",
      "Data columns (total 8 columns):\n",
      " #   Column     Non-Null Count  Dtype \n",
      "---  ------     --------------  ----- \n",
      " 0   ano        132 non-null    int64 \n",
      " 1   raça       132 non-null    object\n",
      " 2   Fem        132 non-null    int64 \n",
      " 3   Mas        132 non-null    int64 \n",
      " 4   total      132 non-null    int64 \n",
      " 5   total_ano  132 non-null    int64 \n",
      " 6   fem_ano    132 non-null    int64 \n",
      " 7   mas_ano    132 non-null    int64 \n",
      "dtypes: int64(7), object(1)\n",
      "memory usage: 8.4+ KB\n"
     ]
    }
   ],
   "source": [
    "df_vinculos.info()"
   ]
  },
  {
   "cell_type": "code",
   "execution_count": 179,
   "metadata": {},
   "outputs": [
    {
     "data": {
      "text/html": [
       "<div>\n",
       "<style scoped>\n",
       "    .dataframe tbody tr th:only-of-type {\n",
       "        vertical-align: middle;\n",
       "    }\n",
       "\n",
       "    .dataframe tbody tr th {\n",
       "        vertical-align: top;\n",
       "    }\n",
       "\n",
       "    .dataframe thead th {\n",
       "        text-align: right;\n",
       "    }\n",
       "</style>\n",
       "<table border=\"1\" class=\"dataframe\">\n",
       "  <thead>\n",
       "    <tr style=\"text-align: right;\">\n",
       "      <th></th>\n",
       "      <th>ano</th>\n",
       "      <th>feminino</th>\n",
       "      <th>masculino</th>\n",
       "    </tr>\n",
       "  </thead>\n",
       "  <tbody>\n",
       "    <tr>\n",
       "      <th>0</th>\n",
       "      <td>1999</td>\n",
       "      <td>210314.0</td>\n",
       "      <td>267102.0</td>\n",
       "    </tr>\n",
       "    <tr>\n",
       "      <th>1</th>\n",
       "      <td>2000</td>\n",
       "      <td>203748.0</td>\n",
       "      <td>259080.0</td>\n",
       "    </tr>\n",
       "    <tr>\n",
       "      <th>2</th>\n",
       "      <td>2001</td>\n",
       "      <td>198272.0</td>\n",
       "      <td>248091.0</td>\n",
       "    </tr>\n",
       "    <tr>\n",
       "      <th>3</th>\n",
       "      <td>2002</td>\n",
       "      <td>192609.0</td>\n",
       "      <td>227055.0</td>\n",
       "    </tr>\n",
       "    <tr>\n",
       "      <th>4</th>\n",
       "      <td>2003</td>\n",
       "      <td>192290.0</td>\n",
       "      <td>226842.0</td>\n",
       "    </tr>\n",
       "  </tbody>\n",
       "</table>\n",
       "</div>"
      ],
      "text/plain": [
       "    ano  feminino  masculino\n",
       "0  1999  210314.0   267102.0\n",
       "1  2000  203748.0   259080.0\n",
       "2  2001  198272.0   248091.0\n",
       "3  2002  192609.0   227055.0\n",
       "4  2003  192290.0   226842.0"
      ]
     },
     "execution_count": 179,
     "metadata": {},
     "output_type": "execute_result"
    }
   ],
   "source": [
    "# Olhando para a diferança de Vinculos ativos de mulheres e homens\n",
    "dif_sexo = df_vinculos.groupby(['ano'])[['fem_ano', 'mas_ano']].mean().reset_index().rename(columns = {'fem_ano': 'feminino', 'mas_ano': 'masculino'})\n",
    "dif_sexo.head()\n"
   ]
  },
  {
   "cell_type": "code",
   "execution_count": 180,
   "metadata": {},
   "outputs": [
    {
     "data": {
      "text/html": [
       "<div>\n",
       "<style scoped>\n",
       "    .dataframe tbody tr th:only-of-type {\n",
       "        vertical-align: middle;\n",
       "    }\n",
       "\n",
       "    .dataframe tbody tr th {\n",
       "        vertical-align: top;\n",
       "    }\n",
       "\n",
       "    .dataframe thead th {\n",
       "        text-align: right;\n",
       "    }\n",
       "</style>\n",
       "<table border=\"1\" class=\"dataframe\">\n",
       "  <thead>\n",
       "    <tr style=\"text-align: right;\">\n",
       "      <th></th>\n",
       "      <th>ano</th>\n",
       "      <th>feminino</th>\n",
       "      <th>masculino</th>\n",
       "      <th>comparativo</th>\n",
       "    </tr>\n",
       "  </thead>\n",
       "  <tbody>\n",
       "    <tr>\n",
       "      <th>0</th>\n",
       "      <td>1999</td>\n",
       "      <td>210314.0</td>\n",
       "      <td>267102.0</td>\n",
       "      <td>27.0</td>\n",
       "    </tr>\n",
       "    <tr>\n",
       "      <th>1</th>\n",
       "      <td>2000</td>\n",
       "      <td>203748.0</td>\n",
       "      <td>259080.0</td>\n",
       "      <td>27.0</td>\n",
       "    </tr>\n",
       "    <tr>\n",
       "      <th>2</th>\n",
       "      <td>2001</td>\n",
       "      <td>198272.0</td>\n",
       "      <td>248091.0</td>\n",
       "      <td>25.0</td>\n",
       "    </tr>\n",
       "    <tr>\n",
       "      <th>3</th>\n",
       "      <td>2002</td>\n",
       "      <td>192609.0</td>\n",
       "      <td>227055.0</td>\n",
       "      <td>18.0</td>\n",
       "    </tr>\n",
       "    <tr>\n",
       "      <th>4</th>\n",
       "      <td>2003</td>\n",
       "      <td>192290.0</td>\n",
       "      <td>226842.0</td>\n",
       "      <td>18.0</td>\n",
       "    </tr>\n",
       "  </tbody>\n",
       "</table>\n",
       "</div>"
      ],
      "text/plain": [
       "    ano  feminino  masculino  comparativo\n",
       "0  1999  210314.0   267102.0         27.0\n",
       "1  2000  203748.0   259080.0         27.0\n",
       "2  2001  198272.0   248091.0         25.0\n",
       "3  2002  192609.0   227055.0         18.0\n",
       "4  2003  192290.0   226842.0         18.0"
      ]
     },
     "execution_count": 180,
     "metadata": {},
     "output_type": "execute_result"
    }
   ],
   "source": [
    "# criando a coluna de comparativo salarial de Homens para Mulheres\n",
    "dif_sexo['comparativo'] = round(dif_sexo['masculino'] / dif_sexo['feminino'] - 1,2)*100 # Criando o percentual de diferença de pessoal, sem contar sexo\n",
    "dif_sexo.head()"
   ]
  },
  {
   "cell_type": "markdown",
   "metadata": {},
   "source": [
    "###### Criando plot do comparativo"
   ]
  },
  {
   "cell_type": "code",
   "execution_count": 211,
   "metadata": {},
   "outputs": [
    {
     "data": {
      "text/plain": [
       "Text(16.819444444444443, 0.5, '(%) Comparativa')"
      ]
     },
     "execution_count": 211,
     "metadata": {},
     "output_type": "execute_result"
    },
    {
     "data": {
      "image/png": "[encoded data removed]",
      "text/plain": [
       "<Figure size 500x500 with 1 Axes>"
      ]
     },
     "metadata": {},
     "output_type": "display_data"
    }
   ],
   "source": [
    "sns.set_theme(style=\"whitegrid\")\n",
    "sns.relplot(\n",
    "    data=dif_sexo,\n",
    "    x=\"ano\", y=\"comparativo\",\n",
    "    kind=\"line\")\n",
    "plt.title('Comparativo de Vinculos Ativos entre Homens e Mulheres no Poder Executivo Civil Federal entre 1999 e 2020', size = 10)\n",
    "plt.suptitle('Calculo:\\n Cargos de Vinculos de Homens\\n / Vinculos de Mulheres * 100',size = 7, y = 0.95, x = 1.1)\n",
    "plt.xlabel('Ano')\n",
    "plt.ylabel('(%) Comparativa')\n",
    "\n"
   ]
  },
  {
   "cell_type": "markdown",
   "metadata": {},
   "source": [
    "* É possivel na Analise de que homens sempre tiveram mais postos no Poder Executivo Federal, chegando a 30% entre os anos de 2006 a 2009"
   ]
  },
  {
   "cell_type": "code",
   "execution_count": 182,
   "metadata": {},
   "outputs": [
    {
     "data": {
      "text/html": [
       "<div>\n",
       "<style scoped>\n",
       "    .dataframe tbody tr th:only-of-type {\n",
       "        vertical-align: middle;\n",
       "    }\n",
       "\n",
       "    .dataframe tbody tr th {\n",
       "        vertical-align: top;\n",
       "    }\n",
       "\n",
       "    .dataframe thead th {\n",
       "        text-align: right;\n",
       "    }\n",
       "</style>\n",
       "<table border=\"1\" class=\"dataframe\">\n",
       "  <thead>\n",
       "    <tr style=\"text-align: right;\">\n",
       "      <th></th>\n",
       "      <th>ano</th>\n",
       "      <th>raça</th>\n",
       "      <th>Fem</th>\n",
       "      <th>Mas</th>\n",
       "      <th>total</th>\n",
       "      <th>total_ano</th>\n",
       "      <th>fem_ano</th>\n",
       "      <th>mas_ano</th>\n",
       "    </tr>\n",
       "  </thead>\n",
       "  <tbody>\n",
       "    <tr>\n",
       "      <th>0</th>\n",
       "      <td>1999</td>\n",
       "      <td>AMARELA</td>\n",
       "      <td>7319</td>\n",
       "      <td>8566</td>\n",
       "      <td>15885</td>\n",
       "      <td>477416</td>\n",
       "      <td>210314</td>\n",
       "      <td>267102</td>\n",
       "    </tr>\n",
       "    <tr>\n",
       "      <th>1</th>\n",
       "      <td>1999</td>\n",
       "      <td>BRANCA</td>\n",
       "      <td>105793</td>\n",
       "      <td>124198</td>\n",
       "      <td>229991</td>\n",
       "      <td>477416</td>\n",
       "      <td>210314</td>\n",
       "      <td>267102</td>\n",
       "    </tr>\n",
       "    <tr>\n",
       "      <th>2</th>\n",
       "      <td>1999</td>\n",
       "      <td>INDIGENA</td>\n",
       "      <td>530</td>\n",
       "      <td>1054</td>\n",
       "      <td>1584</td>\n",
       "      <td>477416</td>\n",
       "      <td>210314</td>\n",
       "      <td>267102</td>\n",
       "    </tr>\n",
       "    <tr>\n",
       "      <th>3</th>\n",
       "      <td>1999</td>\n",
       "      <td>NAO INFORMADO</td>\n",
       "      <td>32792</td>\n",
       "      <td>50004</td>\n",
       "      <td>82796</td>\n",
       "      <td>477416</td>\n",
       "      <td>210314</td>\n",
       "      <td>267102</td>\n",
       "    </tr>\n",
       "    <tr>\n",
       "      <th>4</th>\n",
       "      <td>1999</td>\n",
       "      <td>PARDA</td>\n",
       "      <td>54612</td>\n",
       "      <td>74169</td>\n",
       "      <td>128781</td>\n",
       "      <td>477416</td>\n",
       "      <td>210314</td>\n",
       "      <td>267102</td>\n",
       "    </tr>\n",
       "  </tbody>\n",
       "</table>\n",
       "</div>"
      ],
      "text/plain": [
       "    ano           raça     Fem     Mas   total  total_ano  fem_ano  mas_ano\n",
       "0  1999        AMARELA    7319    8566   15885     477416   210314   267102\n",
       "1  1999         BRANCA  105793  124198  229991     477416   210314   267102\n",
       "2  1999       INDIGENA     530    1054    1584     477416   210314   267102\n",
       "3  1999  NAO INFORMADO   32792   50004   82796     477416   210314   267102\n",
       "4  1999          PARDA   54612   74169  128781     477416   210314   267102"
      ]
     },
     "execution_count": 182,
     "metadata": {},
     "output_type": "execute_result"
    }
   ],
   "source": [
    "df_vinculos.head()"
   ]
  },
  {
   "cell_type": "code",
   "execution_count": 183,
   "metadata": {},
   "outputs": [
    {
     "data": {
      "text/html": [
       "<div>\n",
       "<style scoped>\n",
       "    .dataframe tbody tr th:only-of-type {\n",
       "        vertical-align: middle;\n",
       "    }\n",
       "\n",
       "    .dataframe tbody tr th {\n",
       "        vertical-align: top;\n",
       "    }\n",
       "\n",
       "    .dataframe thead th {\n",
       "        text-align: right;\n",
       "    }\n",
       "</style>\n",
       "<table border=\"1\" class=\"dataframe\">\n",
       "  <thead>\n",
       "    <tr style=\"text-align: right;\">\n",
       "      <th></th>\n",
       "      <th>ano</th>\n",
       "      <th>raça</th>\n",
       "      <th>Fem</th>\n",
       "      <th>Mas</th>\n",
       "      <th>total</th>\n",
       "      <th>total_ano</th>\n",
       "      <th>fem_ano</th>\n",
       "      <th>mas_ano</th>\n",
       "      <th>porcentagem_mulheres_cor_anual</th>\n",
       "      <th>porcentagem_homens_cor_anual</th>\n",
       "      <th>total_porcent_anual</th>\n",
       "    </tr>\n",
       "  </thead>\n",
       "  <tbody>\n",
       "    <tr>\n",
       "      <th>0</th>\n",
       "      <td>1999</td>\n",
       "      <td>AMARELA</td>\n",
       "      <td>7319</td>\n",
       "      <td>8566</td>\n",
       "      <td>15885</td>\n",
       "      <td>477416</td>\n",
       "      <td>210314</td>\n",
       "      <td>267102</td>\n",
       "      <td>2.0</td>\n",
       "      <td>2.0</td>\n",
       "      <td>4.0</td>\n",
       "    </tr>\n",
       "    <tr>\n",
       "      <th>1</th>\n",
       "      <td>1999</td>\n",
       "      <td>BRANCA</td>\n",
       "      <td>105793</td>\n",
       "      <td>124198</td>\n",
       "      <td>229991</td>\n",
       "      <td>477416</td>\n",
       "      <td>210314</td>\n",
       "      <td>267102</td>\n",
       "      <td>22.0</td>\n",
       "      <td>26.0</td>\n",
       "      <td>48.0</td>\n",
       "    </tr>\n",
       "    <tr>\n",
       "      <th>2</th>\n",
       "      <td>1999</td>\n",
       "      <td>INDIGENA</td>\n",
       "      <td>530</td>\n",
       "      <td>1054</td>\n",
       "      <td>1584</td>\n",
       "      <td>477416</td>\n",
       "      <td>210314</td>\n",
       "      <td>267102</td>\n",
       "      <td>0.0</td>\n",
       "      <td>0.0</td>\n",
       "      <td>0.0</td>\n",
       "    </tr>\n",
       "    <tr>\n",
       "      <th>3</th>\n",
       "      <td>1999</td>\n",
       "      <td>NAO INFORMADO</td>\n",
       "      <td>32792</td>\n",
       "      <td>50004</td>\n",
       "      <td>82796</td>\n",
       "      <td>477416</td>\n",
       "      <td>210314</td>\n",
       "      <td>267102</td>\n",
       "      <td>7.0</td>\n",
       "      <td>10.0</td>\n",
       "      <td>17.0</td>\n",
       "    </tr>\n",
       "    <tr>\n",
       "      <th>4</th>\n",
       "      <td>1999</td>\n",
       "      <td>PARDA</td>\n",
       "      <td>54612</td>\n",
       "      <td>74169</td>\n",
       "      <td>128781</td>\n",
       "      <td>477416</td>\n",
       "      <td>210314</td>\n",
       "      <td>267102</td>\n",
       "      <td>11.0</td>\n",
       "      <td>16.0</td>\n",
       "      <td>27.0</td>\n",
       "    </tr>\n",
       "    <tr>\n",
       "      <th>5</th>\n",
       "      <td>1999</td>\n",
       "      <td>PRETA</td>\n",
       "      <td>9268</td>\n",
       "      <td>9111</td>\n",
       "      <td>18379</td>\n",
       "      <td>477416</td>\n",
       "      <td>210314</td>\n",
       "      <td>267102</td>\n",
       "      <td>2.0</td>\n",
       "      <td>2.0</td>\n",
       "      <td>4.0</td>\n",
       "    </tr>\n",
       "  </tbody>\n",
       "</table>\n",
       "</div>"
      ],
      "text/plain": [
       "    ano           raça     Fem     Mas   total  total_ano  fem_ano  mas_ano  \\\n",
       "0  1999        AMARELA    7319    8566   15885     477416   210314   267102   \n",
       "1  1999         BRANCA  105793  124198  229991     477416   210314   267102   \n",
       "2  1999       INDIGENA     530    1054    1584     477416   210314   267102   \n",
       "3  1999  NAO INFORMADO   32792   50004   82796     477416   210314   267102   \n",
       "4  1999          PARDA   54612   74169  128781     477416   210314   267102   \n",
       "5  1999          PRETA    9268    9111   18379     477416   210314   267102   \n",
       "\n",
       "   porcentagem_mulheres_cor_anual  porcentagem_homens_cor_anual  \\\n",
       "0                             2.0                           2.0   \n",
       "1                            22.0                          26.0   \n",
       "2                             0.0                           0.0   \n",
       "3                             7.0                          10.0   \n",
       "4                            11.0                          16.0   \n",
       "5                             2.0                           2.0   \n",
       "\n",
       "   total_porcent_anual  \n",
       "0                  4.0  \n",
       "1                 48.0  \n",
       "2                  0.0  \n",
       "3                 17.0  \n",
       "4                 27.0  \n",
       "5                  4.0  "
      ]
     },
     "execution_count": 183,
     "metadata": {},
     "output_type": "execute_result"
    }
   ],
   "source": [
    "# Criando as porcentagens\n",
    "df_vinculos['porcentagem_mulheres_cor_anual'] = round(df_vinculos['Fem'] / df_vinculos['total_ano'],2)*100\n",
    "df_vinculos['porcentagem_homens_cor_anual'] = round(df_vinculos['Mas'] / df_vinculos['total_ano'],2)*100\n",
    "df_vinculos['total_porcent_anual'] = df_vinculos['porcentagem_homens_cor_anual'] + df_vinculos['porcentagem_mulheres_cor_anual']\n",
    "df_vinculos.head(6)"
   ]
  },
  {
   "cell_type": "code",
   "execution_count": 229,
   "metadata": {},
   "outputs": [
    {
     "name": "stderr",
     "output_type": "stream",
     "text": [
      "C:\\Users\\chris\\AppData\\Local\\Temp\\ipykernel_3076\\2582320420.py:1: FutureWarning: Indexing with multiple keys (implicitly converted to a tuple of keys) will be deprecated, use a list instead.\n",
      "  mulheres_cargos = df_vinculos.groupby(['ano'])['fem_ano', 'total_ano'].mean().reset_index()\n"
     ]
    },
    {
     "data": {
      "text/plain": [
       "44.2974843740384"
      ]
     },
     "execution_count": 229,
     "metadata": {},
     "output_type": "execute_result"
    }
   ],
   "source": [
    "mulheres_cargos = df_vinculos.groupby(['ano'])['fem_ano', 'total_ano'].mean().reset_index()\n",
    "mulheres_cargos['porcentagem'] = mulheres_cargos['fem_ano'] / mulheres_cargos['total_ano'] *100\n",
    "mulheres_cargos['porcentagem'].mean()"
   ]
  },
  {
   "cell_type": "code",
   "execution_count": null,
   "metadata": {},
   "outputs": [],
   "source": []
  },
  {
   "cell_type": "markdown",
   "metadata": {},
   "source": [
    "* Pessoas brancas em todos os anos da pesquisa mantem uma grande maioria em todos os anos, tendo aumento, chegando a mais de 50% pós os anos 2000 e atingindo picos entre os anos de 2011 e 2020\n",
    "* Pardos não tem muita alteração de participação nos cargos\n",
    "* Pretos tiveram um pequeno aumento em % entre os anos de 2017 e 2020\n",
    "* É importante ressaltar a diminuição da expressividade de falta de dados sobre a cor dos ocupantes dos cargos, acompanhando dessa diminuição de informações de Não informados veio o aumento da % de brancos\n",
    "* Indigenas sempre mantiveram inexpressiva presença no Porder Executivo\n",
    "\n",
    "-- Essas informações podem ser visualizada no grafico abaixo"
   ]
  },
  {
   "cell_type": "code",
   "execution_count": 194,
   "metadata": {},
   "outputs": [
    {
     "data": {
      "image/png": "[encoded data removed]",
      "text/plain": [
       "<Figure size 1685.25x1500 with 1 Axes>"
      ]
     },
     "metadata": {},
     "output_type": "display_data"
    }
   ],
   "source": [
    "sns.set_theme(style=\"whitegrid\")\n",
    "g2 = sns.catplot(\n",
    "    data=df_vinculos, kind=\"bar\",\n",
    "    x=\"ano\", y=\"total_porcent_anual\", hue=\"raça\",\n",
    "    alpha=1, height=15\n",
    ")\n",
    "plt.xticks(rotation = 90)\n",
    "g2._legend.set_title('Cor')\n",
    "\n"
   ]
  },
  {
   "cell_type": "markdown",
   "metadata": {},
   "source": [
    "##### Analise Final\n",
    "* Dentro das 2 analises das diferentes bases é possível ver uma conexão entre as médias saláriais dentro do quesito Cor/Raça, tendo uma conexão tambem com a o fato da maioria dos cargos serem ocupados por Brancos, sendo que é algo que é conhecido que brancos ocupam mais cargos de liderança.\n",
    "* Na relação de Genero há uma diferença salárial, que se coloca como diferença a questão de raça, mulheres negras recebem em média 19% abaixo das médias salariais entre os anos de 1999 e 2020 enquanto mulheres brancas recebem 7,3 % acima da mesma média salarial\n",
    "* A diferença salarial entre homens negros e homens brancos fica em mais de 36%, o homem branco Recebendo 24 % acima da média e o homem negro recebendo 12 % abaixo das médias saláriais entre os anos de 1999 e 2020"
   ]
  },
  {
   "cell_type": "markdown",
   "metadata": {},
   "source": [
    "* É notavel a diferença na quantidade de cargos dentro da questão racial, sendo que ouve um aumento declarado de Brancos no Cargos ativos do Executivo Federal, principalmente nos anos de 2010 até 2020\n",
    "* Há um pequeno aumento na representatividade de pretos e pardos entre os anos e 2016 e 2020, sendo que os pardos tem um fator de oscilação entre toda a série historica"
   ]
  },
  {
   "cell_type": "markdown",
   "metadata": {},
   "source": [
    "* Mulheres ocupam 44,3% dos cargos no executivo federal ativo porem em média 5,9 % a menos que a média salárial"
   ]
  }
 ],
 "metadata": {
  "kernelspec": {
   "display_name": "Python 3.10.8 64-bit (microsoft store)",
   "language": "python",
   "name": "python3"
  },
  "language_info": {
   "codemirror_mode": {
    "name": "ipython",
    "version": 3
   },
   "file_extension": ".py",
   "mimetype": "text/x-python",
   "name": "python",
   "nbconvert_exporter": "python",
   "pygments_lexer": "ipython3",
   "version": "3.10.8"
  },
  "orig_nbformat": 4,
  "vscode": {
   "interpreter": {
    "hash": "aa82987a71ca0339a52998cd22613b0c002bda8349fa32a0cb67ceec3936a2bf"
   }
  }
 },
 "nbformat": 4,
 "nbformat_minor": 2
}
